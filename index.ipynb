{
 "cells": [
  {
   "cell_type": "markdown",
   "metadata": {},
   "source": [
    "# Natural Language Processing - Recap"
   ]
  },
  {
   "cell_type": "markdown",
   "metadata": {},
   "source": [
    "## Key Takeaways\n",
    "\n",
    "The key takeaways from this section include:\n",
    "\n",
    "* NLP has become increasingly popular over the past few years, and NLP researchers have achieved very insightful insights  \n",
    "* The Natural Language Tool Kit (NLTK) is one of the most popular Python libraries for NLP\n",
    "* Regular Expressions are an important part of NLP, which can be used for pattern matching and filtering\n",
    "* Regular Expressions can become confusing, so make sure to use our provided cheat sheet the first few times you work with regex\n",
    "* It is strongly recommended you take some time to use regex tester websites to ensure you understand how changing your regex pattern affects your results when working towards a correct answer!\n",
    "* Feature Engineering is essential when working with text data, and to understand the dynamics of your text\n",
    "* Common feature engineering techniques are removing stop words, stemming, lemmatization, and n-grams\n",
    "* When diving deeper into grammar and linguistics, context-free grammars and part-of-speech tagging is important\n",
    "* In this context, parse trees can help computers when dealing with ambiguous words \n",
    "* _How_ you clean and preprocess your data will have a major effect on the conclusions you'll be able to draw in your NLP classification problems "
   ]
  }
 ],
 "metadata": {
  "kernelspec": {
   "display_name": "Python 3",
   "language": "python",
   "name": "python3"
  },
  "language_info": {
   "codemirror_mode": {
    "name": "ipython",
    "version": 3
   },
   "file_extension": ".py",
   "mimetype": "text/x-python",
   "name": "python",
   "nbconvert_exporter": "python",
   "pygments_lexer": "ipython3",
   "version": "3.8.5"
  },
  "toc": {
   "base_numbering": 1,
   "nav_menu": {},
   "number_sections": true,
   "sideBar": true,
   "skip_h1_title": false,
   "title_cell": "Table of Contents",
   "title_sidebar": "Contents",
   "toc_cell": false,
   "toc_position": {},
   "toc_section_display": true,
   "toc_window_display": false
  }
 },
 "nbformat": 4,
 "nbformat_minor": 2
}
